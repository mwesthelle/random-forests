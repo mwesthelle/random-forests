{
 "cells": [
  {
   "cell_type": "markdown",
   "metadata": {},
   "source": [
    "# Universidade Federal do Rio Grande do Sul\n",
    "### Alunos: Matheus Westhelle e Dieu Merci Kengele\n"
   ]
  },
  {
   "cell_type": "markdown",
   "metadata": {},
   "source": [
    "## Florestas Aleatórias"
   ]
  },
  {
   "cell_type": "markdown",
   "metadata": {},
   "source": [
    "### Implementação da árvore de decisão"
   ]
  },
  {
   "cell_type": "markdown",
   "metadata": {},
   "source": [
    "Nossa implementação de árvore consiste de uma classe _TreeNode_, que é apenas uma estrutura de dados que armazena as propriedades de um nodo, e de uma classe _DecisionTree_, encarregada por toda a funcionalidade relacionada à geração da árvore de decisão: do cálculo de entropia, à função recursiva de construção de árvore."
   ]
  },
  {
   "cell_type": "markdown",
   "metadata": {},
   "source": [
    "#### Classe TreeNode"
   ]
  },
  {
   "cell_type": "markdown",
   "metadata": {},
   "source": [
    "Essa classe é a estrutura de dados que armazena informações de um nodo. Em nosso caso, essas informações são\n",
    "`attribute_data_dict`, um dicionário cujas chaves são os atributos da árvore e cujos valores são os valores desses\n",
    "atributos; `outcomes`, uma lista de resultados associados aos atributos, de forma que o primeiro elemento de `outcomes` é\n",
    "a classe relativa aos primeiros elementos das listas de atributos; `children`, uma lista de classes `TreeNode` que representa os nodos filhos desse nodo; `class_`, que representa a classe do nodo, se ele for um nodo folha; `cutting_point_attribute_val`, uma estrutura que armazena o nome do melhor atributo, seu valor, e o ganho de informação desse atributo; e `idx2attr`, uma estrutura auxiliar que mapeia índices aos nomes dos atributos."
   ]
  },
  {
   "cell_type": "markdown",
   "metadata": {},
   "source": [
    "#### Classe DecisionTree"
   ]
  },
  {
   "cell_type": "markdown",
   "metadata": {},
   "source": [
    "A classe `DecisionTree` concentra toda a funcionalidade de geração de árvore de decisão. Nela, implementamos o algoritmo C4.5 como critério de seleção de atributos."
   ]
  },
  {
   "cell_type": "markdown",
   "metadata": {},
   "source": [
    "#### Classificação de novas instâncias"
   ]
  },
  {
   "cell_type": "markdown",
   "metadata": {},
   "source": [
    "Para classificar novas instâncias, a classe `DecisionTree` tem um método `predict` para fazer a classificação de instâncias. Esse método faz um pré-processamento do dado de teste, carregando-o numa estrutura auxiliar contendo os nomes dos atributos, e chama outro método recursivo, `_predict`. A recursão tem dois casos base: o primeiro ocorre quando o nodo tem uma classe, o que, na nossa implementação, significa que ele é um nodo folha. O outro ocorre quando não existem mais atributos para particionarmos; nesse caso, retornamos a classe majoritária. A recursão segue buscando o melhor atributo de acordo com a razão de ganho (previamente armazenado na construção da árvore) e comparando o valor armazenado em `cutting_point_attribute_val` de cada filho do nodo atual com o valor da instância; se os valores forem iguais, removemos o atributo de uma estrutura auxiliar, `available_attrs`, e seguimos a recursão com o filho e os atributos restantes.\n",
    "\n",
    "Empiricamente, descobrimos que, ao gerar árvores aleatórias com bootstraps, algumas árvores não contem exemplos de todos os valores possíveis de atributos. Nosso método de construção de árvore não gera folhas vazias nesse caso, então o que fizemos é, ao encontrarmos um valor de atributo não \"visto\" até o momento, paramos a recursão e retornamos a classe majoritária."
   ]
  },
  {
   "cell_type": "markdown",
   "metadata": {},
   "source": [
    "### Florestas aleatórias"
   ]
  },
  {
   "cell_type": "markdown",
   "metadata": {},
   "source": [
    "Nossa classe `RandomForest` funciona como um modelo ensemble genérico, que recebe outro modelo como parâmetro (esse modelo é subclasse de uma classe abstrata que implementa os métodos `fit` e `predict`). A própria classe `RandomForest` também implementa os métodos `fit` e `predict`; o seu método `fit` gera `ntree` instâncias do modelo recebido, que é nossa árvore de decisão, e os treina a partir de bootstraps dos dados, de forma que cada árvore é treinada com um bootstrap diferente. Outro fator que varia de árvore para árvore são os atributos selecionados. Nós escolhemos um número de atributos que é a raiz quadrada do número de atributos dos dados originais, arredondado para baixo, como é sugerido na especificação do trabalho; não tentamos otimizar esse parâmetro.\n",
    "\n",
    "Após treinarmos todas as instâncias do modelo, podemos gerar predições. O método `predict` da classe gera uma predição para cada modelo; nós então agrupamos essas predições e geramos a predição final do modelo a partir de uma votação majoritária."
   ]
  },
  {
   "cell_type": "markdown",
   "metadata": {},
   "source": [
    "### Validação cruzada"
   ]
  },
  {
   "cell_type": "markdown",
   "metadata": {},
   "source": [
    "Para avaliação do modelo, nós usamos validação cruzada com 10 folds, sem repetição.\n",
    "A implementação dessa avaliação se encontra na classe `KFoldCrossValidation`. Ela armazena uma lista de índices através \n",
    "dos quais ela faz a leitura do arquivo do dataset, e essa lista é manipulada para gerarmos os folds de treinamento e teste.\n",
    "A lista de indíces é criada através do método `index_dataset`, e cada fold é gerado pelo método `generate_stratified_fold`;\n",
    "esse método gera um fold através de amostragem estratificada, usando as proporções das classes como peso para amostragem.\n",
    "\n",
    "É feita a avaliação do modelo fazendo um _fit_ com os folds de treinamento e _predict_ com o fold de teste. Comparamos as predições geradas pelo _predict_ com os resultados reais e, a partir dessa comparação, geramos a métrica de acurácia. Há de ser feita a consideração de que essa métrica usualmente não é muito boa, especialmente para datasets desbalanceados."
   ]
  },
  {
   "cell_type": "markdown",
   "metadata": {},
   "source": [
    "### Experimentos"
   ]
  },
  {
   "cell_type": "code",
   "execution_count": 2,
   "metadata": {},
   "outputs": [],
   "source": [
    "from collections import defaultdict\n",
    "from functools import partial\n",
    "import os\n",
    "import time\n",
    "\n",
    "import numpy as np\n",
    "import matplotlib.pyplot as plt\n",
    "from matplotlib.pyplot import figure\n",
    "\n",
    "from decision_tree import DecisionTree\n",
    "from random_forest import RandomForest\n",
    "from kfold_crossvalidation import KFoldCrossValidation\n",
    "%matplotlib inline"
   ]
  },
  {
   "cell_type": "markdown",
   "metadata": {},
   "source": [
    "#### Análise de corretude com o dataset benchmark"
   ]
  },
  {
   "cell_type": "markdown",
   "metadata": {},
   "source": [
    "Para analisarmos a corretude da nossa implementação de árvore de decisão, criamos um método simples de impressão, que ajusta a indentação de acordo com o nível da recursão, e imprime o atributo de corte e o ganho de informação. Abaixo, inicializamos uma instância do nosso modelo; carregamos um dataset toy, provido a nós pelos professores; treinamos o modelo nesses dados e imprimimos a árvore gerada."
   ]
  },
  {
   "cell_type": "code",
   "execution_count": 3,
   "metadata": {},
   "outputs": [
    {
     "name": "stdout",
     "output_type": "stream",
     "text": [
      " Tempo 0.2467498197744391\n",
      "   Ventoso 0.9709505944546686\n",
      "     Ventoso 0.9709505944546686\n",
      "   Tempo 0.2467498197744391\n",
      "     Tempo 0.2467498197744391\n",
      "       Umidade 0.9709505944546686\n",
      "         Umidade 0.9709505944546686\n"
     ]
    }
   ],
   "source": [
    "dec_tree = DecisionTree()\n",
    "with open(\"../datasets/benchmark.csv\") as benchmark:\n",
    "    data = []\n",
    "    next(benchmark) #skip header\n",
    "    for line in benchmark:\n",
    "        data.append(line.strip().split(\";\"))\n",
    "    dec_tree.fit(data, attribute_names=[\"Tempo\", \"Temperatura\", \"Umidade\", \"Ventoso\"])\n",
    "    dec_tree.print_tree(dec_tree.root)"
   ]
  },
  {
   "cell_type": "markdown",
   "metadata": {},
   "source": [
    "Os pontos de corte e valores do ganho de informação batem com os valores do exemplo, portanto podemos concluir que nossa implementação de árvore de decisão funciona como o esperado."
   ]
  },
  {
   "cell_type": "markdown",
   "metadata": {},
   "source": [
    "#### Balanceamento de classes por dataset"
   ]
  },
  {
   "cell_type": "code",
   "execution_count": 20,
   "metadata": {},
   "outputs": [
    {
     "name": "stdout",
     "output_type": "stream",
     "text": [
      "Counter({'0': 267, '1': 168})\n"
     ]
    }
   ],
   "source": [
    "from collections import Counter\n",
    "\n",
    "class_counter = Counter()\n",
    "\n",
    "with open(\"../datasets/house_votes_84.tsv\") as house_votes:\n",
    "    next(house_votes)\n",
    "    for line in house_votes:\n",
    "        target = line.strip().split('\\t')[-1]\n",
    "        class_counter[target] += 1\n",
    "\n",
    "print(class_counter)"
   ]
  },
  {
   "cell_type": "code",
   "execution_count": 22,
   "metadata": {},
   "outputs": [
    {
     "name": "stdout",
     "output_type": "stream",
     "text": [
      "Counter({'2': 71, '1': 59, '3': 48})\n"
     ]
    }
   ],
   "source": [
    "class_counter = Counter()\n",
    "\n",
    "with open(\"../datasets/wine_recognition.tsv\") as house_votes:\n",
    "    next(house_votes)\n",
    "    for line in house_votes:\n",
    "        target = line.strip().split('\\t')[-1]\n",
    "        class_counter[target] += 1\n",
    "\n",
    "print(class_counter)"
   ]
  },
  {
   "cell_type": "markdown",
   "metadata": {},
   "source": [
    "O dataset _house_votes_84_ apresenta certo desbalanço entre as classes-alvo, enquanto o dataset _wine_recognition_ apresenta um desbalanço menor, mas ainda presente."
   ]
  },
  {
   "cell_type": "markdown",
   "metadata": {},
   "source": [
    "#### Avaliação do modelo nos datasets"
   ]
  },
  {
   "cell_type": "markdown",
   "metadata": {},
   "source": [
    "Ao escolhermos o número de árvores a serem usadas no modelo, devemos levar em consideração o número de classes no dataset, a fim de evitar a possibilidade de empates na votação. O número de árvores deve, então, ter módulo _k_ diferente de 0, onde _k_ é o número de classes no dataset. O dataset _House Votes 84_ tem apenas duas classes, de forma que basta usarmos um número ímpar de árvores. Já o dataset _Wine Recognition_ tem três possíveis classes, o que significa que não iremos usar números de árvore múltiplos de três. Optamos então por usar números primos de árvores para realizarmos nossos experimentos.\n",
    "\n",
    "Poderia ser argumentado, entretanto, que em caso de empate de votação, o modelo está realmente \"indeciso\" e poderíamos então escolher uma classe ao acaso."
   ]
  },
  {
   "cell_type": "code",
   "execution_count": 12,
   "metadata": {},
   "outputs": [
    {
     "name": "stdout",
     "output_type": "stream",
     "text": [
      "Cross-validating 1 trees\n",
      "=========================\n",
      "Fold 1 accuracy: 72.09%\n",
      "Fold 2 accuracy: 81.40%\n",
      "Fold 3 accuracy: 83.72%\n",
      "Fold 4 accuracy: 90.70%\n",
      "Fold 5 accuracy: 90.70%\n",
      "Fold 6 accuracy: 85.42%\n",
      "Fold 7 accuracy: 86.05%\n",
      "Fold 8 accuracy: 90.70%\n",
      "Fold 9 accuracy: 93.02%\n",
      "Fold 10 accuracy: 88.37%\n",
      "Mean accuracy: 86.22%\n",
      "Cross-validating 5 trees\n",
      "=========================\n",
      "Fold 1 accuracy: 95.35%\n",
      "Fold 2 accuracy: 97.67%\n",
      "Fold 3 accuracy: 97.67%\n",
      "Fold 4 accuracy: 95.35%\n",
      "Fold 5 accuracy: 97.67%\n",
      "Fold 6 accuracy: 87.50%\n",
      "Fold 7 accuracy: 88.37%\n",
      "Fold 8 accuracy: 88.37%\n",
      "Fold 9 accuracy: 93.02%\n",
      "Fold 10 accuracy: 88.37%\n",
      "Mean accuracy: 92.94%\n",
      "Cross-validating 7 trees\n",
      "=========================\n",
      "Fold 1 accuracy: 90.70%\n",
      "Fold 2 accuracy: 100.00%\n",
      "Fold 3 accuracy: 97.67%\n",
      "Fold 4 accuracy: 95.35%\n",
      "Fold 5 accuracy: 97.67%\n",
      "Fold 6 accuracy: 89.58%\n",
      "Fold 7 accuracy: 90.70%\n",
      "Fold 8 accuracy: 88.37%\n",
      "Fold 9 accuracy: 97.67%\n",
      "Fold 10 accuracy: 93.02%\n",
      "Mean accuracy: 94.07%\n",
      "Cross-validating 11 trees\n",
      "=========================\n",
      "Fold 1 accuracy: 86.05%\n",
      "Fold 2 accuracy: 97.67%\n",
      "Fold 3 accuracy: 95.35%\n",
      "Fold 4 accuracy: 97.67%\n",
      "Fold 5 accuracy: 97.67%\n",
      "Fold 6 accuracy: 91.67%\n",
      "Fold 7 accuracy: 93.02%\n",
      "Fold 8 accuracy: 88.37%\n",
      "Fold 9 accuracy: 97.67%\n",
      "Fold 10 accuracy: 90.70%\n",
      "Mean accuracy: 93.59%\n",
      "Cross-validating 17 trees\n",
      "=========================\n",
      "Fold 1 accuracy: 81.40%\n",
      "Fold 2 accuracy: 97.67%\n",
      "Fold 3 accuracy: 95.35%\n",
      "Fold 4 accuracy: 97.67%\n",
      "Fold 5 accuracy: 97.67%\n",
      "Fold 6 accuracy: 89.58%\n",
      "Fold 7 accuracy: 90.70%\n",
      "Fold 8 accuracy: 90.70%\n",
      "Fold 9 accuracy: 95.35%\n",
      "Fold 10 accuracy: 95.35%\n",
      "Mean accuracy: 93.14%\n",
      "Cross-validating 23 trees\n",
      "=========================\n",
      "Fold 1 accuracy: 90.70%\n",
      "Fold 2 accuracy: 97.67%\n",
      "Fold 3 accuracy: 97.67%\n",
      "Fold 4 accuracy: 97.67%\n",
      "Fold 5 accuracy: 97.67%\n",
      "Fold 6 accuracy: 91.67%\n",
      "Fold 7 accuracy: 90.70%\n",
      "Fold 8 accuracy: 88.37%\n",
      "Fold 9 accuracy: 97.67%\n",
      "Fold 10 accuracy: 93.02%\n",
      "Mean accuracy: 94.28%\n",
      "Cross-validating 31 trees\n",
      "=========================\n",
      "Fold 1 accuracy: 88.37%\n",
      "Fold 2 accuracy: 97.67%\n",
      "Fold 3 accuracy: 95.35%\n",
      "Fold 4 accuracy: 93.02%\n",
      "Fold 5 accuracy: 97.67%\n",
      "Fold 6 accuracy: 87.50%\n",
      "Fold 7 accuracy: 88.37%\n",
      "Fold 8 accuracy: 90.70%\n",
      "Fold 9 accuracy: 95.35%\n",
      "Fold 10 accuracy: 90.70%\n",
      "Mean accuracy: 92.47%\n",
      "Cross-validating 37 trees\n",
      "=========================\n",
      "Fold 1 accuracy: 90.70%\n",
      "Fold 2 accuracy: 97.67%\n",
      "Fold 3 accuracy: 97.67%\n",
      "Fold 4 accuracy: 97.67%\n",
      "Fold 5 accuracy: 97.67%\n",
      "Fold 6 accuracy: 89.58%\n",
      "Fold 7 accuracy: 88.37%\n",
      "Fold 8 accuracy: 88.37%\n",
      "Fold 9 accuracy: 97.67%\n",
      "Fold 10 accuracy: 95.35%\n",
      "Mean accuracy: 94.07%\n",
      "Cross-validating 53 trees\n",
      "=========================\n",
      "Fold 1 accuracy: 88.37%\n",
      "Fold 2 accuracy: 97.67%\n",
      "Fold 3 accuracy: 95.35%\n",
      "Fold 4 accuracy: 97.67%\n",
      "Fold 5 accuracy: 97.67%\n",
      "Fold 6 accuracy: 91.67%\n",
      "Fold 7 accuracy: 88.37%\n",
      "Fold 8 accuracy: 88.37%\n",
      "Fold 9 accuracy: 95.35%\n",
      "Fold 10 accuracy: 93.02%\n",
      "Mean accuracy: 93.35%\n",
      "Cross-validating 1 trees\n",
      "=========================\n",
      "Fold 1 accuracy: 41.18%\n",
      "Fold 2 accuracy: 82.35%\n",
      "Fold 3 accuracy: 82.35%\n",
      "Fold 4 accuracy: 88.24%\n",
      "Fold 5 accuracy: 82.35%\n",
      "Fold 6 accuracy: 88.24%\n",
      "Fold 7 accuracy: 100.00%\n",
      "Fold 8 accuracy: 100.00%\n",
      "Fold 9 accuracy: 96.00%\n",
      "Fold 10 accuracy: 94.12%\n",
      "Mean accuracy: 85.48%\n",
      "Cross-validating 5 trees\n",
      "=========================\n",
      "Fold 1 accuracy: 47.06%\n",
      "Fold 2 accuracy: 88.24%\n",
      "Fold 3 accuracy: 82.35%\n",
      "Fold 4 accuracy: 100.00%\n",
      "Fold 5 accuracy: 100.00%\n",
      "Fold 6 accuracy: 100.00%\n",
      "Fold 7 accuracy: 94.12%\n",
      "Fold 8 accuracy: 100.00%\n",
      "Fold 9 accuracy: 96.00%\n",
      "Fold 10 accuracy: 94.12%\n",
      "Mean accuracy: 90.19%\n",
      "Cross-validating 7 trees\n",
      "=========================\n",
      "Fold 1 accuracy: 47.06%\n",
      "Fold 2 accuracy: 70.59%\n",
      "Fold 3 accuracy: 88.24%\n",
      "Fold 4 accuracy: 94.12%\n",
      "Fold 5 accuracy: 100.00%\n",
      "Fold 6 accuracy: 100.00%\n",
      "Fold 7 accuracy: 94.12%\n",
      "Fold 8 accuracy: 100.00%\n",
      "Fold 9 accuracy: 100.00%\n",
      "Fold 10 accuracy: 100.00%\n",
      "Mean accuracy: 89.41%\n",
      "Cross-validating 11 trees\n",
      "=========================\n",
      "Fold 1 accuracy: 41.18%\n",
      "Fold 2 accuracy: 76.47%\n",
      "Fold 3 accuracy: 100.00%\n",
      "Fold 4 accuracy: 100.00%\n",
      "Fold 5 accuracy: 94.12%\n",
      "Fold 6 accuracy: 100.00%\n",
      "Fold 7 accuracy: 100.00%\n",
      "Fold 8 accuracy: 100.00%\n",
      "Fold 9 accuracy: 100.00%\n",
      "Fold 10 accuracy: 100.00%\n",
      "Mean accuracy: 91.18%\n",
      "Cross-validating 17 trees\n",
      "=========================\n",
      "Fold 1 accuracy: 41.18%\n",
      "Fold 2 accuracy: 64.71%\n",
      "Fold 3 accuracy: 88.24%\n",
      "Fold 4 accuracy: 100.00%\n",
      "Fold 5 accuracy: 100.00%\n",
      "Fold 6 accuracy: 100.00%\n",
      "Fold 7 accuracy: 100.00%\n",
      "Fold 8 accuracy: 100.00%\n",
      "Fold 9 accuracy: 100.00%\n",
      "Fold 10 accuracy: 100.00%\n",
      "Mean accuracy: 89.41%\n",
      "Cross-validating 23 trees\n",
      "=========================\n",
      "Fold 1 accuracy: 41.18%\n",
      "Fold 2 accuracy: 70.59%\n",
      "Fold 3 accuracy: 88.24%\n",
      "Fold 4 accuracy: 100.00%\n",
      "Fold 5 accuracy: 94.12%\n",
      "Fold 6 accuracy: 100.00%\n",
      "Fold 7 accuracy: 100.00%\n",
      "Fold 8 accuracy: 100.00%\n",
      "Fold 9 accuracy: 100.00%\n",
      "Fold 10 accuracy: 100.00%\n",
      "Mean accuracy: 89.41%\n",
      "Cross-validating 31 trees\n",
      "=========================\n",
      "Fold 1 accuracy: 41.18%\n",
      "Fold 2 accuracy: 94.12%\n",
      "Fold 3 accuracy: 100.00%\n",
      "Fold 4 accuracy: 100.00%\n",
      "Fold 5 accuracy: 100.00%\n",
      "Fold 6 accuracy: 100.00%\n",
      "Fold 7 accuracy: 100.00%\n",
      "Fold 8 accuracy: 100.00%\n",
      "Fold 9 accuracy: 100.00%\n",
      "Fold 10 accuracy: 100.00%\n",
      "Mean accuracy: 93.53%\n",
      "Cross-validating 37 trees\n",
      "=========================\n",
      "Fold 1 accuracy: 41.18%\n",
      "Fold 2 accuracy: 76.47%\n",
      "Fold 3 accuracy: 100.00%\n",
      "Fold 4 accuracy: 100.00%\n",
      "Fold 5 accuracy: 100.00%\n",
      "Fold 6 accuracy: 100.00%\n",
      "Fold 7 accuracy: 100.00%\n",
      "Fold 8 accuracy: 100.00%\n",
      "Fold 9 accuracy: 100.00%\n",
      "Fold 10 accuracy: 100.00%\n",
      "Mean accuracy: 91.76%\n",
      "Cross-validating 53 trees\n",
      "=========================\n",
      "Fold 1 accuracy: 41.18%\n",
      "Fold 2 accuracy: 76.47%\n",
      "Fold 3 accuracy: 100.00%\n",
      "Fold 4 accuracy: 100.00%\n",
      "Fold 5 accuracy: 100.00%\n",
      "Fold 6 accuracy: 100.00%\n",
      "Fold 7 accuracy: 100.00%\n",
      "Fold 8 accuracy: 100.00%\n",
      "Fold 9 accuracy: 100.00%\n",
      "Fold 10 accuracy: 100.00%\n",
      "Mean accuracy: 91.76%\n",
      "Cross-validation took 182.48s\n"
     ]
    }
   ],
   "source": [
    "results = defaultdict(dict)\n",
    "\n",
    "datasets = [\"house_votes_84\", \"wine_recognition\"]\n",
    "\n",
    "random_forest_categorical = partial(RandomForest, model=DecisionTree())\n",
    "random_forest_numerical = partial(RandomForest, model=DecisionTree(numerical=True))\n",
    "\n",
    "start = time.time()\n",
    "\n",
    "for dataset in datasets:\n",
    "    for i in [1, 5, 7, 11, 17, 23, 31, 37, 53]:\n",
    "        print(f\"Cross-validating {i} trees\")\n",
    "        print(\"=========================\")\n",
    "        if dataset == \"house_votes_84\":\n",
    "            kfold = KFoldCrossValidation(random_forest_categorical(ntrees=i), delimiter=\"\\t\")\n",
    "        else:\n",
    "            kfold = KFoldCrossValidation(random_forest_numerical(ntrees=i), delimiter=\"\\t\")\n",
    "        results[dataset][f\"ntbrees-{i}\"] = kfold.kfold_cross_validation(\n",
    "            os.path.join(os.getcwd(), \"../datasets\", f\"{dataset}.tsv\")\n",
    "        )\n",
    "\n",
    "end = time.time()\n",
    "print(f\"Cross-validation took {end - start:.2f}s\")"
   ]
  },
  {
   "cell_type": "code",
   "execution_count": 14,
   "metadata": {},
   "outputs": [
    {
     "data": {
      "image/png": "[encoded data removed]",
      "text/plain": [
       "<Figure size 1008x360 with 1 Axes>"
      ]
     },
     "metadata": {
      "needs_background": "light"
     },
     "output_type": "display_data"
    }
   ],
   "source": [
    "figure(figsize=(14,5))\n",
    "\n",
    "N = 9\n",
    "house_votes_84 = results['house_votes_84'].values()\n",
    "wine_recognition = results['wine_recognition'].values()\n",
    "\n",
    "ind = np.arange(N)\n",
    "width = 0.35\n",
    "plt.bar(ind, house_votes_84, width, label='House Votes 84')\n",
    "plt.bar(ind + width, wine_recognition, width, label='Wine Recognition')\n",
    "\n",
    "plt.ylabel('Acurácia')\n",
    "plt.title('Acurácia por número de árvores')\n",
    "\n",
    "plt.xticks(ind + width / 2, ('1', '5', '7', '11', '17', '23', '31', '37', '53'))\n",
    "plt.legend(loc='lower right')\n",
    "plt.ylim(0.8, 1)\n",
    "plt.show()"
   ]
  },
  {
   "cell_type": "markdown",
   "metadata": {},
   "source": [
    "### Considerações de desempenho (tempo) do modelo"
   ]
  },
  {
   "cell_type": "markdown",
   "metadata": {},
   "source": [
    "Há pelo menos dois pontos com espaço de melhora evidente em nossa implementação. O primeiro ponto é uma questão de \"baixo nível\" da implementação da validação cruzada. Ao invés de usarmos uma lista de de índices, poderíamos usar uma estrutura de árvore balanceada, que nos proporcionaria tempo de acesso O(logn), em oposição ao tempo de acesso O(n) de uma lista comum. O segundo ponto é uma questão do algoritmo em si: a nossa implementação não faz poda de árvores, o que poderia melhorar bastante o desempenho do modelo para fazer predições e, como bônus, teríamos maior poder de generalização."
   ]
  }
 ],
 "metadata": {
  "kernelspec": {
   "display_name": "Python 3",
   "language": "python",
   "name": "python3"
  },
  "language_info": {
   "codemirror_mode": {
    "name": "ipython",
    "version": 3
   },
   "file_extension": ".py",
   "mimetype": "text/x-python",
   "name": "python",
   "nbconvert_exporter": "python",
   "pygments_lexer": "ipython3",
   "version": "3.8.1"
  }
 },
 "nbformat": 4,
 "nbformat_minor": 4
}
