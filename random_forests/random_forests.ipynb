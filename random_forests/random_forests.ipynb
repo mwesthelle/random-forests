{
 "cells": [
  {
   "cell_type": "markdown",
   "metadata": {},
   "source": [
    "# Universidade Federal do Rio Grande do Sul\n",
    "### Alunos: Matheus Westhelle e Dieu Merci Kengele\n"
   ]
  },
  {
   "cell_type": "markdown",
   "metadata": {},
   "source": [
    "## Florestas Aleatórias"
   ]
  },
  {
   "cell_type": "markdown",
   "metadata": {},
   "source": [
    "### Implementação da árvore de decisão"
   ]
  },
  {
   "cell_type": "markdown",
   "metadata": {},
   "source": [
    "Nossa implementação de árvore de  consiste de uma classe _TreeNode_, que é apenas uma estrutura de dados que armazena as propriedades de um nodo, e de uma classe _DecisionTree_, encarregada por toda a funcionalidade relacionada à geração da árvore de decisão: do cálculo de entropia, à função recursiva de construção de árvore."
   ]
  },
  {
   "cell_type": "markdown",
   "metadata": {},
   "source": [
    "#### Classe TreeNode"
   ]
  },
  {
   "cell_type": "markdown",
   "metadata": {},
   "source": [
    "Essa classe é a estrutura de dados que armazena informações de um nodo. Em nosso caso, essas informações são\n",
    "`attribute_data_dict`, um dicionário cujas chaves são os atributos da árvore e cujos valores são os valores desses\n",
    "atributos; `outcomes`, uma lista de resultados associados aos atributos, de forma que o primeiro elemento de `outcomes` é\n",
    "a classe relativa aos primeiros elementos das listas de atributos; `children`, uma lista de classes `TreeNode` que representa os nodos filhos desse nodo; `class_`, que representa a classe do nodo, se ele for um nodo folha; e `idx2attr`, uma estrutura auxiliar que mapeia índices aos nomes dos atributos."
   ]
  },
  {
   "cell_type": "markdown",
   "metadata": {},
   "source": [
    "#### Classe DecisionTree"
   ]
  },
  {
   "cell_type": "markdown",
   "metadata": {},
   "source": [
    "A classe `DecisionTree` concentra toda a funcionalidade de geração de árvore de decisão"
   ]
  },
  {
   "cell_type": "code",
   "execution_count": 10,
   "metadata": {},
   "outputs": [],
   "source": [
    "from collections import defaultdict\n",
    "from functools import partial\n",
    "import os\n",
    "\n",
    "import numpy as np\n",
    "import matplotlib.pyplot as plt\n",
    "\n",
    "from decision_tree import DecisionTree\n",
    "from random_forest import RandomForest\n",
    "from kfold_crossvalidation import KFoldCrossValidation\n",
    "%matplotlib inline"
   ]
  },
  {
   "cell_type": "markdown",
   "metadata": {},
   "source": [
    "Ao escolhermos o número de árvores a serem usadas no modelo, devemos levar em consideração o número de classes no dataset, a fim de evitar a possibilidade de empates na votação. O número de árvores deve, então, ter módulo _k_ diferente de 0, onde _k_ é o número de classes no dataset. O dataset _House Votes 84_ tem apenas duas classes, de forma que basta usarmos um número ímpar de árvores. Já o dataset _Wine Recognition_ tem três possíveis classes, o que significa que não iremos usar números de árvore múltiplos de três. Optamos então por usar números primos de árvores para realizarmos nossos experimentos."
   ]
  },
  {
   "cell_type": "code",
   "execution_count": null,
   "metadata": {},
   "outputs": [],
   "source": [
    "results = defaultdict(dict)\n",
    "\n",
    "datasets = [\"house_votes_84\", \"wine_recognition\"]\n",
    "\n",
    "random_forest = partial(RandomForest, model=DecisionTree())\n",
    "\n",
    "for dataset in datasets:\n",
    "    for i in [1, 5, 7, 11, 17, 23, 31]:\n",
    "        kfold = KFoldCrossValidation(random_forest(ntrees=i), delimiter=\"\\t\")\n",
    "        results[dataset][f\"ntrees-{i}\"] = kfold.kfold_cross_validation(\n",
    "            os.path.join(os.getcwd(), \"../datasets\", f\"{dataset}.tsv\")\n",
    "        )"
   ]
  },
  {
   "cell_type": "code",
   "execution_count": 15,
   "metadata": {},
   "outputs": [
    {
     "data": {
      "text/plain": [
       "defaultdict(dict,\n",
       "            {'house_votes_84': {'ntrees-11': 0.9358527131782945,\n",
       "              'ntrees-17': 0.9314437984496123,\n",
       "              'ntrees-23': 0.9428294573643411,\n",
       "              'ntrees-31': 0.9247093023255815},\n",
       "             'wine_recognition': {'ntrees-11': 0.9117647058823529,\n",
       "              'ntrees-17': 0.8941176470588236,\n",
       "              'ntrees-23': 0.8941176470588236,\n",
       "              'ntrees-31': 0.9352941176470588}})"
      ]
     },
     "execution_count": 15,
     "metadata": {},
     "output_type": "execute_result"
    }
   ],
   "source": [
    "results"
   ]
  },
  {
   "cell_type": "code",
   "execution_count": 12,
   "metadata": {},
   "outputs": [
    {
     "data": {
      "image/png": "[encoded data removed]",
      "text/plain": [
       "<Figure size 432x288 with 1 Axes>"
      ]
     },
     "metadata": {
      "needs_background": "light"
     },
     "output_type": "display_data"
    }
   ],
   "source": [
    "N = 5\n",
    "house_votes_84 = results['house_votes_84'].values()\n",
    "wine_recognition = results['wine_recognition'].values()\n",
    "\n",
    "ind = np.arange(N) \n",
    "width = 0.35       \n",
    "plt.bar(ind, house_votes_84, width, label='House Votes 84')\n",
    "plt.bar(ind + width, wine_recognition, width, label='Wine Recognition')\n",
    "\n",
    "plt.ylabel('Acurácia')\n",
    "plt.title('Acurácia por número de árvores')\n",
    "\n",
    "plt.xticks(ind + width / 2, ('1', '3', '5', '7', '9'))\n",
    "plt.legend(loc='lower right')\n",
    "plt.show()"
   ]
  }
 ],
 "metadata": {
  "kernelspec": {
   "display_name": "Python 3",
   "language": "python",
   "name": "python3"
  },
  "language_info": {
   "codemirror_mode": {
    "name": "ipython",
    "version": 3
   },
   "file_extension": ".py",
   "mimetype": "text/x-python",
   "name": "python",
   "nbconvert_exporter": "python",
   "pygments_lexer": "ipython3",
   "version": "3.8.1"
  }
 },
 "nbformat": 4,
 "nbformat_minor": 4
}
